{
 "cells": [
  {
   "cell_type": "markdown",
   "id": "f99e3067-b7d5-48f0-bfb8-ec4c8e7a3826",
   "metadata": {
    "tags": []
   },
   "source": [
    "# Question 1\n",
    "What is the result of the following code?\n",
    "``` python\n",
    "import numpy as np\n",
    "a = np.array([1, 2, 3])\n",
    "b = np.array([4, 5, 6])\n",
    "c = a + b\n",
    "print(c)\n",
    "\n",
    "```"
   ]
  },
  {
   "cell_type": "code",
   "execution_count": 1,
   "id": "9a701a3f-fd1f-4f00-8668-a59bcd8a3a54",
   "metadata": {},
   "outputs": [
    {
     "name": "stdout",
     "output_type": "stream",
     "text": [
      "[5 7 9]\n"
     ]
    }
   ],
   "source": [
    "import numpy as np\n",
    "a = np.array([1, 2, 3])\n",
    "b = np.array([4, 5, 6])\n",
    "c = a + b\n",
    "print(c)"
   ]
  },
  {
   "cell_type": "markdown",
   "id": "790105a8-f00d-4aed-b30e-4bbe0604390f",
   "metadata": {},
   "source": [
    "The result is [5, 7, 9]"
   ]
  },
  {
   "cell_type": "markdown",
   "id": "3a48fe95-123f-4f12-8bc9-a383b2ab4838",
   "metadata": {},
   "source": [
    "# Question 2\n",
    "\n",
    "Create a numpy array of 10 zeros. and reshape it to (2, 5)"
   ]
  },
  {
   "cell_type": "code",
   "execution_count": 3,
   "id": "adc38af0-5c2a-4939-be18-ef2a2299fae8",
   "metadata": {},
   "outputs": [
    {
     "name": "stdout",
     "output_type": "stream",
     "text": [
      "[0. 0. 0. 0. 0. 0. 0. 0. 0. 0.]\n"
     ]
    }
   ],
   "source": [
    "zero_array = np.zeros(10)\n",
    "print(zero_array)"
   ]
  },
  {
   "cell_type": "code",
   "execution_count": 5,
   "id": "205970cd-bdc4-45bc-be2f-d4eec466af1c",
   "metadata": {},
   "outputs": [
    {
     "name": "stdout",
     "output_type": "stream",
     "text": [
      "[[0. 0. 0. 0. 0.]\n",
      " [0. 0. 0. 0. 0.]]\n"
     ]
    }
   ],
   "source": [
    "# reshaping zero_array to (2,5)\n",
    "zero_array_reshaped = zero_array.reshape(2,5)\n",
    "print(zero_array_reshaped)"
   ]
  },
  {
   "cell_type": "code",
   "execution_count": null,
   "id": "a71cdc43-96c9-450b-9795-6fe5c8dcd9e2",
   "metadata": {},
   "outputs": [],
   "source": []
  },
  {
   "cell_type": "markdown",
   "id": "3b1a967b-8e6e-408c-ad46-f8381d90ee62",
   "metadata": {},
   "source": [
    "# Question 3\n",
    "\n",
    "Find Mean, Mode, Median, Standard Deviation of the following data\n"
   ]
  },
  {
   "cell_type": "code",
   "execution_count": 6,
   "id": "71eccba6-3a1d-4137-a516-43e4ca843436",
   "metadata": {},
   "outputs": [],
   "source": [
    "data = [1, 2, 3, 4, 5, 6, 7, 8, 9, 10, 11, 12, 13, 14, 15, 16, 17, 18, 19, 20]"
   ]
  },
  {
   "cell_type": "code",
   "execution_count": 7,
   "id": "500875fa-2827-4df2-b3b4-baaedd8a42e3",
   "metadata": {},
   "outputs": [],
   "source": [
    "import statistics"
   ]
  },
  {
   "cell_type": "code",
   "execution_count": 13,
   "id": "05004690-082c-4baa-8399-24a3f8e21383",
   "metadata": {},
   "outputs": [
    {
     "name": "stdout",
     "output_type": "stream",
     "text": [
      "The mean is 10.5\n",
      "The median is 10.5\n",
      "The standard deviation is 5.766281297335398\n",
      "The mode is 1\n"
     ]
    }
   ],
   "source": [
    "data_mean = np.mean(data)\n",
    "print(f'The mean is {data_mean}')\n",
    "data_median = np.median(data)\n",
    "print(f'The median is {data_median}')\n",
    "data_std = np.std(data)\n",
    "print(f'The standard deviation is {data_std}')\n",
    "data_mode = statistics.mode(data)\n",
    "print(f'The mode is {data_mode}')"
   ]
  },
  {
   "cell_type": "markdown",
   "id": "4e4fff4c-3dda-46ac-9aac-bb846e414e56",
   "metadata": {},
   "source": [
    "# Question 4\n",
    "create a 6x6 numpy array with random values and find the min and max values"
   ]
  },
  {
   "cell_type": "code",
   "execution_count": 15,
   "id": "e2559320-0293-41c6-a6df-aa8d229c5bab",
   "metadata": {},
   "outputs": [
    {
     "name": "stdout",
     "output_type": "stream",
     "text": [
      "[[0 1 2 3 4 5]\n",
      " [0 1 2 3 4 5]\n",
      " [0 1 2 3 4 5]\n",
      " [0 1 2 3 4 5]\n",
      " [0 1 2 3 4 5]\n",
      " [0 1 2 3 4 5]]\n"
     ]
    }
   ],
   "source": [
    "my6x6 = np.array([[i for i in range(6)] for _ in range(6)])\n",
    "print(my6x6)"
   ]
  },
  {
   "cell_type": "code",
   "execution_count": 18,
   "id": "94c44d90-15b2-428e-9bec-d4ed0fa8c774",
   "metadata": {},
   "outputs": [
    {
     "name": "stdout",
     "output_type": "stream",
     "text": [
      "5\n",
      "0\n"
     ]
    }
   ],
   "source": [
    "maximum = np.max(my6x6)\n",
    "minimum = np.min(my6x6)\n",
    "print(maximum)\n",
    "print(minimum)\n"
   ]
  },
  {
   "cell_type": "markdown",
   "id": "fee5432c-18f9-486d-95f2-6946dd6ac10c",
   "metadata": {},
   "source": [
    "# Question 5\n",
    "Create a 3D numpy array and reshape it to 2D"
   ]
  },
  {
   "cell_type": "code",
   "execution_count": 29,
   "id": "444663c7-35f7-4933-a7a3-b07f321f5201",
   "metadata": {},
   "outputs": [
    {
     "name": "stdout",
     "output_type": "stream",
     "text": [
      "[[[1 2]\n",
      "  [3 4]]\n",
      "\n",
      " [[5 6]\n",
      "  [7 8]]]\n"
     ]
    }
   ],
   "source": [
    "a_3d_array = np.array([[[1, 2], [3, 4]], [[5, 6], [7, 8]]])\n",
    "\n",
    "print(a_3d_array)"
   ]
  },
  {
   "cell_type": "code",
   "execution_count": null,
   "id": "4b001d2a-d020-42a6-ac79-8132a6159413",
   "metadata": {},
   "outputs": [],
   "source": [
    "a_2d_array = a_3d_array.reshape((3,2))"
   ]
  },
  {
   "cell_type": "markdown",
   "id": "a19dc97d-74c5-4cb6-9c89-8c83d2bad431",
   "metadata": {},
   "source": [
    "# Question 6\n",
    "create 1D array from this data"
   ]
  },
  {
   "cell_type": "code",
   "execution_count": 23,
   "id": "e1c8d811-cda4-4b36-b7a4-710d4e1d6397",
   "metadata": {},
   "outputs": [],
   "source": [
    "data = [[1, 2, 3], [4, 5, 6], [7, 8, 9]]"
   ]
  },
  {
   "cell_type": "code",
   "execution_count": 30,
   "id": "f30c4cc5-884b-4b10-bbad-c1faca536676",
   "metadata": {},
   "outputs": [
    {
     "name": "stdout",
     "output_type": "stream",
     "text": [
      "[1 2 3 4 5 6 7 8 9]\n"
     ]
    }
   ],
   "source": [
    "a_1d_array = np.ravel(data) # method for creating a one Dimensional array\n",
    "print(a_1d_array)"
   ]
  },
  {
   "cell_type": "code",
   "execution_count": null,
   "id": "a2ce4ac9-988e-417e-9d80-4e3e8e6c2765",
   "metadata": {},
   "outputs": [],
   "source": []
  },
  {
   "cell_type": "markdown",
   "id": "025125ac-25e9-49c1-afcc-33f88a9e61f6",
   "metadata": {},
   "source": [
    "# References"
   ]
  },
  {
   "cell_type": "markdown",
   "id": "607c2d9b-7a46-475d-a76c-4800fd63fb77",
   "metadata": {},
   "source": [
    "https://bic-berkeley.github.io/psych-214-fall-2016/reshape_and_3d.html"
   ]
  },
  {
   "cell_type": "code",
   "execution_count": null,
   "id": "2247292b-88f0-4ca7-ad6e-6e0e2fba6118",
   "metadata": {},
   "outputs": [],
   "source": []
  },
  {
   "cell_type": "code",
   "execution_count": null,
   "id": "02ecabef-ed38-485c-a4cd-43bef7505a2f",
   "metadata": {},
   "outputs": [],
   "source": []
  }
 ],
 "metadata": {
  "kernelspec": {
   "display_name": "Python 3 (ipykernel)",
   "language": "python",
   "name": "python3"
  },
  "language_info": {
   "codemirror_mode": {
    "name": "ipython",
    "version": 3
   },
   "file_extension": ".py",
   "mimetype": "text/x-python",
   "name": "python",
   "nbconvert_exporter": "python",
   "pygments_lexer": "ipython3",
   "version": "3.10.8"
  }
 },
 "nbformat": 4,
 "nbformat_minor": 5
}
